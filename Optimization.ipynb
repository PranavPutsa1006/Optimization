{
  "nbformat": 4,
  "nbformat_minor": 0,
  "metadata": {
    "colab": {
      "name": "Optimization.ipynb",
      "provenance": [],
      "collapsed_sections": [],
      "authorship_tag": "ABX9TyMsB0lgRYswcc7uAruxo8gy",
      "include_colab_link": true
    },
    "kernelspec": {
      "name": "python3",
      "display_name": "Python 3"
    }
  },
  "cells": [
    {
      "cell_type": "markdown",
      "metadata": {
        "id": "view-in-github",
        "colab_type": "text"
      },
      "source": [
        "<a href=\"https://colab.research.google.com/github/PranavPutsa1006/Optimization/blob/main/Optimization.ipynb\" target=\"_parent\"><img src=\"https://colab.research.google.com/assets/colab-badge.svg\" alt=\"Open In Colab\"/></a>"
      ]
    },
    {
      "cell_type": "markdown",
      "metadata": {
        "id": "D8qj-2E92isa"
      },
      "source": [
        "For graph plotting : https://www.wolframalpha.com/examples/mathematics/plotting-and-graphics/"
      ]
    },
    {
      "cell_type": "markdown",
      "metadata": {
        "id": "HnSBhaAZ6KHy"
      },
      "source": [
        "For finding optimum values:https://www.wolframalpha.com/input/?i=minimize+x%5E4-5*x%5E3%2B2*e%5Ex-5*cos%283*x%29"
      ]
    },
    {
      "cell_type": "markdown",
      "metadata": {
        "id": "QXoXEuyWPm-D"
      },
      "source": [
        "1. Exhaustive Search"
      ]
    },
    {
      "cell_type": "code",
      "metadata": {
        "id": "2XOcEzDvPp5l",
        "colab": {
          "base_uri": "https://localhost:8080/",
          "height": 101
        },
        "outputId": "021ec795-bd81-4edc-9a2c-09dd5c68b1f9"
      },
      "source": [
        "from math import *\n",
        "\n",
        "e = 2.7182818284590452353602874713527\n",
        "\n",
        "def f(y):\n",
        "    return round(eval(question.replace(\"x\", \"(\"+str(y)+\")\")), 8)\n",
        "\n",
        "question = input('Enter expression: ')\n",
        "question = question.replace(\"^\", \"**\")\n",
        "a = float(input(\"Enter a: \"))\n",
        "b = float(input(\"Enter b: \"))\n",
        "n = float(input(\"Enter n value: \"))\n",
        "delta_x = round((b - a)/n, 5)\n",
        "x1 = a\n",
        "x2 = x1 + delta_x\n",
        "x3 = x1 + 2*delta_x\n",
        "\n",
        "fx1 = f(x1)\n",
        "fx2 = f(x2)\n",
        "while x3 <= b:\n",
        "    fx3 = f(x3)\n",
        "    if fx1 >= fx2 and fx2 <= fx3:\n",
        "        print(\"Minimum lies in (\"+str(round(x1, 7))+\",\"+str(round(x3, 7))+\")\")\n",
        "        break\n",
        "    else:\n",
        "        x1 += delta_x\n",
        "        x2 += delta_x\n",
        "        x3 += delta_x\n",
        "        fx1 = fx2\n",
        "        fx2 = fx3\n"
      ],
      "execution_count": null,
      "outputs": [
        {
          "output_type": "stream",
          "text": [
            "Enter expression: sin(x)+4*x^2\n",
            "Enter a: -2\n",
            "Enter b: 1\n",
            "Enter n value: 3000\n",
            "Minimum lies in (-0.125,-0.123)\n"
          ],
          "name": "stdout"
        }
      ]
    },
    {
      "cell_type": "markdown",
      "metadata": {
        "id": "acRCo5NQP2HP"
      },
      "source": [
        "2. Bounding Phase"
      ]
    },
    {
      "cell_type": "code",
      "metadata": {
        "id": "ww2HrVYVP5n0"
      },
      "source": [
        "from math import *\n",
        "\n",
        "e = 2.7182818284590452353602874713527\n",
        "\n",
        "def f(y):\n",
        "    return round(eval(question.replace(\"x\", \"(\"+str(y)+\")\")), 8)\n",
        "\n",
        "question = input('Enter Expression: ')\n",
        "question = question.replace(\"^\", \"**\")\n",
        "# question = question.replace(\"x\", \"(x)\")\n",
        "k = 0\n",
        "x0 = float(input(\"Enter x0: \"))\n",
        "delta = float(input(\"Enter increment value: \"))\n",
        "x_0 = x0\n",
        "x1 = x0 - delta\n",
        "x2 = x0 + delta\n",
        "\n",
        "fx0 = f(x0)\n",
        "fx1 = f(x1)\n",
        "fx2 = f(x2)\n",
        "search_dir = ''\n",
        "fxk1 = fx0\n",
        "if fx1 >= fx0 >= fx2:\n",
        "    search_dir = 'right'\n",
        "    fxk1 = fx2\n",
        "elif fx1 <= fx0 <= fx2:\n",
        "    search_dir = 'left'\n",
        "    delta *= -1\n",
        "    fxk1 = fx1\n",
        "elif fx1 >= fx0 <= fx2:\n",
        "    search_dir = 'stop'\n",
        "    print(\"Minimum lies in (\"+str(round(x1, 5))+\",\"+str(round(x2, 5))+\")\")\n",
        "\n",
        "fxk = fx0\n",
        "while search_dir != 'stop':\n",
        "    x1 = x0 + math.pow(2, k)*delta\n",
        "    fxk1 = f(x1)\n",
        "    if fxk1 < fxk:\n",
        "        fxk = fxk1\n",
        "        x0 = x1\n",
        "        k += 1\n",
        "    else:\n",
        "        k -= 1\n",
        "        x2 = x_0\n",
        "        for i in range(0, k):\n",
        "            x2 += (2**i)*delta\n",
        "        print(\"Minimum lies in (\" + str(round(min(x_0 + (2**(k-1))*delta, x1), 7)) + \",\" + str(round(max(x2, x1), 7)) + \")\")\n",
        "        break"
      ],
      "execution_count": null,
      "outputs": []
    },
    {
      "cell_type": "markdown",
      "metadata": {
        "id": "EbHaTmMK4dfB"
      },
      "source": [
        "eg: https://www.wolframalpha.com/input/?i=Plot%5Bx%5E4+-+5+x%5E3+%2B+2+E%5Ex+-+5+Cos%5B3+x%5D%2C+%7Bx%2C+-2.5%2C+5.0%7D%5D"
      ]
    },
    {
      "cell_type": "markdown",
      "metadata": {
        "id": "uSuAKdwV6vr7"
      },
      "source": [
        "3. Interval Halving"
      ]
    },
    {
      "cell_type": "code",
      "metadata": {
        "id": "vC-Jt6wd6yg1",
        "colab": {
          "base_uri": "https://localhost:8080/",
          "height": 101
        },
        "outputId": "97b8d3f1-cb20-49fa-a7b8-67cbdf1af35a"
      },
      "source": [
        "from math import *\n",
        "\n",
        "e = 2.7182818284590452353602874713527\n",
        "\n",
        "def f(y):\n",
        "    return round(eval(question.replace(\"x\", \"(\"+str(y)+\")\")), 8)\n",
        "\n",
        "question = input('Enter expression: ')\n",
        "question = question.replace(\"^\", \"**\")\n",
        "a = float(input(\"Enter a: \"))\n",
        "b = float(input(\"Enter b: \"))\n",
        "eps = float(input(\"Enter termination parameter: \"))\n",
        "length = b - a\n",
        "\n",
        "while True:\n",
        "    x1 = a + length / 4\n",
        "    x2 = b - length / 4\n",
        "    xm = (x1 + x2) / 2\n",
        "    if abs(length) < eps:\n",
        "        print(\"Minimum lies in (\" + str(round(a, 7)) + \",\" + str(round(b, 7)) + \")\")\n",
        "        break\n",
        "    fx1 = f(x1)\n",
        "    fx2 = f(x2)\n",
        "    fxm = f(xm)\n",
        "    if fx1 < fxm:\n",
        "        b = xm\n",
        "        xm = x1\n",
        "    elif fx2 < fxm:\n",
        "        a = xm\n",
        "        xm = x2\n",
        "    else:\n",
        "        a = x1\n",
        "        b = x2\n",
        "    length = b - a\n"
      ],
      "execution_count": null,
      "outputs": [
        {
          "output_type": "stream",
          "text": [
            "Enter expression: (x^2-1)^3+(2*x-5)^4\n",
            "Enter a: -2\n",
            "Enter b: 3\n",
            "Enter termination parameter: 0.001\n",
            "Minimum lies in (1.6862183,1.6868286)\n"
          ],
          "name": "stdout"
        }
      ]
    },
    {
      "cell_type": "markdown",
      "metadata": {
        "id": "3K8sdLba7A88"
      },
      "source": [
        "4. Fibonacci Search"
      ]
    },
    {
      "cell_type": "code",
      "metadata": {
        "id": "h4xp5-ndtizI"
      },
      "source": [
        "# upgraded version of fibonacci function which removes recursive depth by implementing loop to allow more number of function evaluations\n",
        "def fib(n):\n",
        "    if n < 2:\n",
        "        return 1\n",
        "    i = 2\n",
        "    last1 = 1\n",
        "    last2 = 1\n",
        "    while i <= n:\n",
        "        result = last1 + last2\n",
        "        last2 = last1\n",
        "        last1 = result\n",
        "        i+=1\n",
        "    return result\n",
        "\n",
        "print(fib(11))"
      ],
      "execution_count": null,
      "outputs": []
    },
    {
      "cell_type": "code",
      "metadata": {
        "id": "rWMty8aK7EbA"
      },
      "source": [
        "from math import *\n",
        "\n",
        "e = 2.7182818284590452353602874713527\n",
        "\n",
        "def f(y):\n",
        "    return round(eval(question.replace(\"x\", \"(\"+str(y)+\")\")), 8)\n",
        "\n",
        "\n",
        "def fib(n):\n",
        "    if n < 2:\n",
        "        return 1\n",
        "    i = 2\n",
        "    last1 = 1\n",
        "    last2 = 1\n",
        "    while i <= n:\n",
        "        result = last1 + last2\n",
        "        last2 = last1\n",
        "        last1 = result\n",
        "        i+=1\n",
        "    return result\n",
        "\n",
        "question = input('Enter expression: ')\n",
        "question = question.replace(\"^\", \"**\")\n",
        "a = float(input(\"Enter a: \"))\n",
        "b = float(input(\"Enter b: \"))\n",
        "m = int(input(\"Enter no. of function evaluations: \"))\n",
        "length = b - a\n",
        "k = 2\n",
        "\n",
        "while True:\n",
        "    lk = (fib(m-k+1)/fib(m+1))*length\n",
        "    x1 = a + lk\n",
        "    x2 = b - lk\n",
        "    if k == m:\n",
        "        print(\"Minimum lies in (\" + str(round(a, 7)) + \",\" + str(round(b, 7)) + \")\")\n",
        "        break\n",
        "    fx1 = f(x1)\n",
        "    fx2 = f(x2)\n",
        "    if fx1 > fx2:\n",
        "        a = x1\n",
        "    elif fx1 < fx2:\n",
        "        b = x2\n",
        "    k += 1\n"
      ],
      "execution_count": null,
      "outputs": []
    },
    {
      "cell_type": "markdown",
      "metadata": {
        "id": "l6DbgJEuXE1V"
      },
      "source": [
        "5. Golden Section Search"
      ]
    },
    {
      "cell_type": "code",
      "metadata": {
        "id": "T27CGKfOTCAI",
        "colab": {
          "base_uri": "https://localhost:8080/",
          "height": 84
        },
        "outputId": "24fa4ef7-8f90-423f-8b88-b9bb149cba58"
      },
      "source": [
        "from math import *\n",
        "\n",
        "e = 2.7182818284590452353602874713527\n",
        "\n",
        "def f(y):\n",
        "    return round(eval(question.replace(\"x\", \"(\"+str(y*(b - a) + a)+\")\")), 8)\n",
        "\n",
        "question = input('Enter expression: ')\n",
        "question = question.replace(\"^\", \"**\")\n",
        "a = float(input(\"Enter a: \"))\n",
        "b = float(input(\"Enter b: \"))\n",
        "eps = float(input(\"Enter termination parameter: \"))\n",
        "aw = 0\n",
        "bw = 1\n",
        "lw = 1\n",
        "k = 1\n",
        "\n",
        "while True:\n",
        "    w1 = aw + 0.618*lw\n",
        "    w2 = bw - 0.618*lw\n",
        "    lw = bw - aw\n",
        "    if abs(lw) < eps:\n",
        "        print(\"Minimum lies in (\" + str(round(aw * (b-a) + a, 7)) + \",\" + str(round(bw * (b-a) + a, 7)) + \")\")\n",
        "        break\n",
        "    fw1 = f(w1)\n",
        "    fw2 = f(w2)\n",
        "    if fw1 > fw2:\n",
        "        bw = w1\n",
        "    elif fw1 < fw2:\n",
        "        aw = w2\n",
        "    k += 1\n"
      ],
      "execution_count": null,
      "outputs": [
        {
          "output_type": "stream",
          "text": [
            "Enter expression: (x^2-1)^5+(2*x-5)^6\n",
            "Enter a: 0\n",
            "Enter b: 2\n",
            "Enter termination parameter: 0.000001\n"
          ],
          "name": "stdout"
        }
      ]
    },
    {
      "cell_type": "markdown",
      "metadata": {
        "id": "fovmeFmgXXGT"
      },
      "source": [
        "6. Successive Quadratic Estimation"
      ]
    },
    {
      "cell_type": "code",
      "metadata": {
        "id": "Fjeau-JGXawT",
        "colab": {
          "base_uri": "https://localhost:8080/",
          "height": 84
        },
        "outputId": "d9494bf3-785e-4971-ef30-678274e02546"
      },
      "source": [
        "from math import *\n",
        "import operator\n",
        "\n",
        "e = 2.7182818284590452353602874713527\n",
        "\n",
        "def f(y):\n",
        "    return round(eval(question.replace(\"x\", \"(\"+str(y)+\")\")), 8)\n",
        "\n",
        "question = input('Enter expression: ')\n",
        "question = question.replace(\"^\", \"**\")\n",
        "x1 = float(input(\"Enter x1: \"))\n",
        "delta = float(input(\"Enter step size: \"))\n",
        "x2 = x1 + delta\n",
        "k = 1\n",
        "\n",
        "if f(x1) >= f(x2):\n",
        "    x3 = x1 + 2 * delta\n",
        "else:\n",
        "    x3 = x1 - delta\n",
        "\n",
        "while True:\n",
        "    f1 = f(x1)\n",
        "    f2 = f(x2)\n",
        "    f3 = f(x3)\n",
        "    Fmin = min(f1, f2, f3)\n",
        "    if Fmin == f1:\n",
        "        Xmin = x1\n",
        "    elif Fmin == f2:\n",
        "        Xmin = x2\n",
        "    else:\n",
        "        Xmin = x3\n",
        "    a1 = (f2 - f1)/(x2 - x1)\n",
        "    a2 = ((f3-f1)/(x3-x1) - a1)/(x3-x2)\n",
        "    x_bar = (x1+x2)/2 - a1/(2*a2)\n",
        "    fx_bar = f(x_bar)\n",
        "    x_dict = {f1:x1, f2:x2, f3:x3, fx_bar:x_bar}\n",
        "    x_dict = dict(sorted(x_dict.items(), key=operator.itemgetter(0)))\n",
        "    if abs(Fmin - fx_bar) < 0.001 or abs(Xmin - x_bar) < 0.001:               # \"or k >= 2:\" stops after 2 iterations\n",
        "        print(\"Minimum lies at \" + str(round(x_dict[list(x_dict.keys())[0]], 7)))\n",
        "        break\n",
        "    x_dict.pop(list(x_dict.keys())[3])\n",
        "    x_dict = dict(sorted(x_dict.items(), key=operator.itemgetter(1)))\n",
        "    [x1,x2,x3] = list(x_dict.values())\n",
        "    k += 1\n"
      ],
      "execution_count": null,
      "outputs": [
        {
          "output_type": "stream",
          "text": [
            "Enter expression: 2*x+1.75*x^2+1.1*x^3+0.25*x^4\n",
            "Enter x1: -3\n",
            "Enter step size: 0.7\n",
            "Minimum lies at -2.0437743\n"
          ],
          "name": "stdout"
        }
      ]
    },
    {
      "cell_type": "markdown",
      "metadata": {
        "id": "bUlS7Enwld5d"
      },
      "source": [
        "7. Bisection Method"
      ]
    },
    {
      "cell_type": "code",
      "metadata": {
        "id": "FVCBjhCAliV0"
      },
      "source": [
        "from math import *\n",
        "\n",
        "e = 2.7182818284590452353602874713527\n",
        "\n",
        "def f(y):\n",
        "    return round(eval(question.replace(\"x\", \"(\"+str(y)+\")\")), 8)\n",
        "\n",
        "def f1(a):\n",
        "    if a > 0.01 or a < -0.01:\n",
        "        delta_a = 0.01 * abs(a)\n",
        "    else:\n",
        "        delta_a = 0.0001\n",
        "    return (f(a + delta_a) - f(a - delta_a))/(2*delta_a)\n",
        "\n",
        "question = input('Enter expression: ')\n",
        "question = question.replace(\"^\", \"**\")\n",
        "a = float(input(\"Enter a: \"))\n",
        "b = float(input(\"Enter b: \"))\n",
        "eps = float(input(\"Enter termination parameter: \"))\n",
        "x1 = a\n",
        "x2 = b\n",
        "k = 1\n",
        "\n",
        "while f1(a) < 0 and f1(b) > 0:\n",
        "    z = (x1 + x2)/2\n",
        "    if abs(f1(z)) < eps:\n",
        "        print(\"Minimum lies at x = \" + str(round(z, 7)))\n",
        "        break\n",
        "    elif f1(z) < 0:\n",
        "        x1 = z\n",
        "    elif f1(z) > 0:\n",
        "        x2 = z\n",
        "    k += 1\n"
      ],
      "execution_count": null,
      "outputs": []
    },
    {
      "cell_type": "markdown",
      "metadata": {
        "id": "SaDhcA8l1cix"
      },
      "source": [
        "8. Newton Raphson Method"
      ]
    },
    {
      "cell_type": "code",
      "metadata": {
        "id": "RhgoD1rp1ged",
        "colab": {
          "base_uri": "https://localhost:8080/",
          "height": 84
        },
        "outputId": "a01f5a8e-42ae-4409-ebbf-0f13f383f3ab"
      },
      "source": [
        "from math import *\n",
        " \n",
        "e = 2.7182818284590452353602874713527\n",
        " \n",
        "def f(y):\n",
        "    return round(eval(question.replace(\"x\", \"(\"+str(y)+\")\")), 8)\n",
        " \n",
        "def f1(a):\n",
        "    if a > 0.01 or a < -0.01:\n",
        "        delta_a = 0.01 * abs(a)\n",
        "    else:\n",
        "        delta_a = 0.0001\n",
        "    return (f(a + delta_a) - f(a - delta_a))/(2*delta_a)\n",
        " \n",
        " \n",
        "def f11(a):\n",
        "    if a > 0.01 or a < -0.01:\n",
        "        delta_a = 0.01 * abs(a)\n",
        "    else:\n",
        "        delta_a = 0.0001\n",
        "    return (f(a + delta_a) - 2*f(a) + f(a - delta_a))/(delta_a**2.0)\n",
        "\n",
        "\n",
        "question = input('Enter expression: ')\n",
        "question = question.replace(\"^\", \"**\")\n",
        "x0 = float(input(\"Enter x0: \"))\n",
        "eps = float(input(\"Enter termination parameter: \"))\n",
        "k = 1\n",
        " \n",
        "while True:\n",
        "    x1 = x0 - f1(x0)/f11(x0)\n",
        "    if abs(f1(x1)) < eps:\n",
        "        print(\"Minimum lies at \" + str(round(x1, 7)))\n",
        "        break\n",
        "    else:\n",
        "        k += 1\n",
        "        x0 = x1"
      ],
      "execution_count": null,
      "outputs": [
        {
          "output_type": "stream",
          "text": [
            "Enter expression: x^4-5*x^3+2*x^2+4*x+5\n",
            "Enter x0: -3\n",
            "Enter termination parameter: 0.001\n",
            "Minimum lies at -0.385478\n"
          ],
          "name": "stdout"
        }
      ]
    }
  ]
}